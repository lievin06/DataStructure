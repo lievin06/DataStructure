{
  "nbformat": 4,
  "nbformat_minor": 0,
  "metadata": {
    "colab": {
      "provenance": [],
      "authorship_tag": "ABX9TyNsCO1BVVebhwp3Fmmn+VSe",
      "include_colab_link": true
    },
    "kernelspec": {
      "name": "python3",
      "display_name": "Python 3"
    },
    "language_info": {
      "name": "python"
    }
  },
  "cells": [
    {
      "cell_type": "markdown",
      "metadata": {
        "id": "view-in-github",
        "colab_type": "text"
      },
      "source": [
        "<a href=\"https://colab.research.google.com/github/lievin06/DataStructure/blob/main/lievinact1.ipynb\" target=\"_parent\"><img src=\"https://colab.research.google.com/assets/colab-badge.svg\" alt=\"Open In Colab\"/></a>"
      ]
    },
    {
      "cell_type": "code",
      "source": [
        "emptydic = dict()\n",
        "\n",
        "emptydic[\"Toper\"] = 99\n",
        "emptydic[\"Maya\"]  =87\n",
        "emptydic[\"James\"] = 75\n",
        "emptydic[\"Ryan\"] = 55\n",
        "emptydic[\"Aaron\"] = 60\n",
        "emptydic[\"Lievin\"] = 76\n",
        "emptydic[\"Kurt\"] = 88\n",
        "emptydic[\"Gaggan\"] = 89\n",
        "emptydic[\"Justin\"] = 95\n",
        "emptydic[\"Kirsten\"] = 100\n",
        "\n",
        "total = sum(emptydic.values())\n",
        "average = total / len(emptydic)\n",
        "\n",
        "print(\"The average of the values is:\", average)\n",
        "\n",
        "\n",
        "\n",
        "\n",
        "\n",
        "\n",
        "\n",
        "\n"
      ],
      "metadata": {
        "colab": {
          "base_uri": "https://localhost:8080/"
        },
        "id": "JF37Uatd1aex",
        "outputId": "eef787ec-5a8a-4ab4-8d0e-0d06422347f9"
      },
      "execution_count": 51,
      "outputs": [
        {
          "output_type": "stream",
          "name": "stdout",
          "text": [
            "The average of the values is: 82.4\n"
          ]
        }
      ]
    },
    {
      "cell_type": "code",
      "source": [],
      "metadata": {
        "id": "ss80bjax8o_D"
      },
      "execution_count": 49,
      "outputs": []
    }
  ]
}
